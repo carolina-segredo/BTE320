{
  "nbformat": 4,
  "nbformat_minor": 0,
  "metadata": {
    "colab": {
      "provenance": [],
      "authorship_tag": "ABX9TyNkjHu23R4tpitr5bPodiwz",
      "include_colab_link": true
    },
    "kernelspec": {
      "name": "python3",
      "display_name": "Python 3"
    },
    "language_info": {
      "name": "python"
    }
  },
  "cells": [
    {
      "cell_type": "markdown",
      "metadata": {
        "id": "view-in-github",
        "colab_type": "text"
      },
      "source": [
        "<a href=\"https://colab.research.google.com/github/carolina-segredo/BTE320/blob/main/In_Class_Assignment_Carolina_Segredo.ipynb\" target=\"_parent\"><img src=\"https://colab.research.google.com/assets/colab-badge.svg\" alt=\"Open In Colab\"/></a>"
      ]
    },
    {
      "cell_type": "code",
      "source": [
        "#Inputs: sales and cogs_pct\n",
        "sales = (input(\"Enter sales ($): \"))\n",
        "sales = float(sales)\n",
        "\n",
        "cogs_pct = input(\"Enter Cost of Goods sold (%): \")\n",
        "cogs_pct = float(cogs_pct)\n",
        "\n",
        "taxRate = input(\"Enter Tax Rate (%): \")\n",
        "taxRate = float(taxRate)\n",
        "\n",
        "#Processes: calcualte actual cost of goods sold\n",
        "cogs = (sales * (cogs_pct / 100))\n",
        "grossProfit = sales - cogs\n",
        "taxes = grossProfit * (taxRate / 100)\n",
        "netIncome = grossProfit - taxes\n",
        "\n",
        "#Outputs: display cogs and grossProfit\n",
        "print(f\"Sales:\\t\\t $  {sales}\")\n",
        "print(f\"Cost of Goods Sold: $  {cogs}\")\n",
        "print(f\"Gross Profit: $  {grossProfit}\")\n",
        "print(f\"Taxes:\\t\\t $  {taxes}\")\n",
        "print(f\"Net Income:\\t $  {netIncome}\")"
      ],
      "metadata": {
        "colab": {
          "base_uri": "https://localhost:8080/"
        },
        "id": "OoGduz2MhiKH",
        "outputId": "465499bc-be47-4dc3-ade1-1d15ffcc3506"
      },
      "execution_count": 26,
      "outputs": [
        {
          "output_type": "stream",
          "name": "stdout",
          "text": [
            "Enter sales ($): 12000\n",
            "Enter Cost of Goods sold (%): 40\n",
            "Enter Tax Rate (%): 30\n",
            "Sales:\t\t $  12000.0\n",
            "Cost of Goods Sold: $  4800.0\n",
            "Gross Profit: $  7200.0\n",
            "Taxes:\t\t $  2160.0\n",
            "Net Income:\t $  5040.0\n"
          ]
        }
      ]
    },
    {
      "cell_type": "code",
      "source": [],
      "metadata": {
        "id": "ZjHHePOroeKA"
      },
      "execution_count": null,
      "outputs": []
    }
  ]
}