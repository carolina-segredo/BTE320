{
  "nbformat": 4,
  "nbformat_minor": 0,
  "metadata": {
    "colab": {
      "provenance": [],
      "authorship_tag": "ABX9TyM8YEGHzstYGluMPZhHDNbs",
      "include_colab_link": true
    },
    "kernelspec": {
      "name": "python3",
      "display_name": "Python 3"
    },
    "language_info": {
      "name": "python"
    }
  },
  "cells": [
    {
      "cell_type": "markdown",
      "metadata": {
        "id": "view-in-github",
        "colab_type": "text"
      },
      "source": [
        "<a href=\"https://colab.research.google.com/github/carolina-segredo/BTE320/blob/main/BTE320_In_Class_Assignments_Carolina_Segredo.ipynb\" target=\"_parent\"><img src=\"https://colab.research.google.com/assets/colab-badge.svg\" alt=\"Open In Colab\"/></a>"
      ]
    },
    {
      "cell_type": "code",
      "source": [
        "#In Class Assignment - September 3rd, 2025 - Income Statement\n",
        "\n",
        "#Inputs: sales and cogs_pct\n",
        "sales = (input(\"Enter sales ($): \"))\n",
        "sales = float(sales)\n",
        "\n",
        "cogs_pct = input(\"Enter Cost of Goods sold (%): \")\n",
        "cogs_pct = float(cogs_pct)\n",
        "\n",
        "taxRate = input(\"Enter Tax Rate (%): \")\n",
        "taxRate = float(taxRate)\n",
        "\n",
        "#Processes: calcualte actual cost of goods sold\n",
        "cogs = (sales * (cogs_pct / 100))\n",
        "grossProfit = sales - cogs\n",
        "taxes = grossProfit * (taxRate / 100)\n",
        "netIncome = grossProfit - taxes\n",
        "\n",
        "#Outputs: display cogs and grossProfit\n",
        "print(f\"Sales:\\t\\t $  {sales}\")\n",
        "print(f\"Cost of Goods Sold: $  {cogs}\")\n",
        "print(f\"Gross Profit: $  {grossProfit}\")\n",
        "print(f\"Taxes:\\t\\t $  {taxes}\")\n",
        "print(f\"Net Income:\\t $  {netIncome}\")"
      ],
      "metadata": {
        "colab": {
          "base_uri": "https://localhost:8080/"
        },
        "id": "OoGduz2MhiKH",
        "outputId": "465499bc-be47-4dc3-ade1-1d15ffcc3506"
      },
      "execution_count": null,
      "outputs": [
        {
          "output_type": "stream",
          "name": "stdout",
          "text": [
            "Enter sales ($): 12000\n",
            "Enter Cost of Goods sold (%): 40\n",
            "Enter Tax Rate (%): 30\n",
            "Sales:\t\t $  12000.0\n",
            "Cost of Goods Sold: $  4800.0\n",
            "Gross Profit: $  7200.0\n",
            "Taxes:\t\t $  2160.0\n",
            "Net Income:\t $  5040.0\n"
          ]
        }
      ]
    },
    {
      "cell_type": "code",
      "source": [
        "#In Class Assignment - September 8th, 2025 - Simple Income Statement Calculation\n",
        "\n",
        "#Inputs\n",
        "D = int(input(\"Enter Annual Demand (units/year): \"))\n",
        "S = float(input(\"Enter Reorder Cost ($/order): \"))\n",
        "H = float(input(\"Enter Holding Cost ($/unit/year): \"))\n",
        "\n",
        "#Process\n",
        "EOQ = ((2 * D * S)/H) ** 0.5\n",
        "\n",
        "#Output\n",
        "print(f\"EOQ: {EOQ} units\")"
      ],
      "metadata": {
        "colab": {
          "base_uri": "https://localhost:8080/"
        },
        "id": "DKzIEHnPIqNR",
        "outputId": "88819b23-f55a-4131-ddb0-fb188a13cfeb"
      },
      "execution_count": null,
      "outputs": [
        {
          "output_type": "stream",
          "name": "stdout",
          "text": [
            "Enter Annual Demand (units/year): 100\n",
            "Enter Reorder Cost ($/order): 1.5\n",
            "Enter Holding Cost ($/unit/year): 3\n",
            "EOQ: 10.0 units\n"
          ]
        }
      ]
    },
    {
      "cell_type": "code",
      "source": [
        "#In Class Assignment - September 15th, 2025 - Numerical Calculator\n",
        "\n",
        "#Inputs\n",
        "number1 = float(input(\"Enter a number: \"))\n",
        "number2 = float(input(\"Enter another number: \"))\n",
        "operator = input(\"Enter a mathematical operator (+, -, *, /, //, **, %): \")\n",
        "\n",
        "#Process\n",
        "if(operator == \"+\"):\n",
        "  print(number1 + number2)\n",
        "elif(operator == \"-\"):\n",
        "  print(number1 - number2)\n",
        "elif(operator == \"*\"):\n",
        "  print(number1 * number2)\n",
        "elif(operator == \"/\"):\n",
        "  print(number1 / number2)\n",
        "elif(operator == \"//\"):\n",
        "  print(number1 // number2)\n",
        "elif(operator == \"**\"):\n",
        "  print(number1 ** number2)\n",
        "elif(operator == \"%\"):\n",
        "  print(number1 % number2)\n",
        "else:\n",
        "  print(\"Not a valid operator.\")\n"
      ],
      "metadata": {
        "colab": {
          "base_uri": "https://localhost:8080/"
        },
        "id": "ydgt6i5kL9_q",
        "outputId": "72c877c0-ee77-4e85-9fa3-48aee9721ecc"
      },
      "execution_count": null,
      "outputs": [
        {
          "output_type": "stream",
          "name": "stdout",
          "text": [
            "Enter a number: 1.7\n",
            "Enter another number: 3\n",
            "Enter a mathematical operator: **\n",
            "4.912999999999999\n"
          ]
        }
      ]
    },
    {
      "cell_type": "code",
      "source": [
        "#In Class Assignment - September 17th, 2025 - Parking Garage\n",
        "\n",
        "print(f\"Hourly Fees\")\n",
        "print(\"----------------\")\n",
        "for hour in range (1,9):\n",
        "  fee = 5 + 2.5 * hour\n",
        "  if fee < 10:\n",
        "    fee = 10.0\n",
        "  elif fee > 20:\n",
        "    fee = 20.0\n",
        "  print(f\"{hour}\\t{fee}\")"
      ],
      "metadata": {
        "colab": {
          "base_uri": "https://localhost:8080/"
        },
        "id": "32AoBXH_Npk1",
        "outputId": "284d218e-6e8c-432b-870a-e941c743041e"
      },
      "execution_count": 1,
      "outputs": [
        {
          "output_type": "stream",
          "name": "stdout",
          "text": [
            "Hourly Fees\n",
            "----------------\n",
            "1\t10.0\n",
            "2\t10.0\n",
            "3\t12.5\n",
            "4\t15.0\n",
            "5\t17.5\n",
            "6\t20.0\n",
            "7\t20.0\n",
            "8\t20.0\n"
          ]
        }
      ]
    },
    {
      "cell_type": "code",
      "source": [
        "#In Class Assignment - September 22nd, 2025 - Movie Theater\n",
        "\n",
        "print(\"Ad$   Profit\")\n",
        "for ad in range (0,201,25):\n",
        "  revenue = (20 * 10) + (10 * 2 * ad ** 0.5)\n",
        "  expenses = 200 + ad\n",
        "  profit = revenue - expenses\n",
        "  print(f\"{ad}\\t{round(profit)}\")\n",
        ""
      ],
      "metadata": {
        "colab": {
          "base_uri": "https://localhost:8080/"
        },
        "id": "5fs1W5w0OzXb",
        "outputId": "56993170-6f26-43ea-acfb-96f9b4582c6e"
      },
      "execution_count": 18,
      "outputs": [
        {
          "output_type": "stream",
          "name": "stdout",
          "text": [
            "Ad$   Profit\n",
            "0\t0\n",
            "25\t75\n",
            "50\t91\n",
            "75\t98\n",
            "100\t100\n",
            "125\t99\n",
            "150\t95\n",
            "175\t90\n",
            "200\t83\n"
          ]
        }
      ]
    }
  ]
}