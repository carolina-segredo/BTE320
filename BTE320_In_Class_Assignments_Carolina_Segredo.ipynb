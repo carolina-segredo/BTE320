{
  "nbformat": 4,
  "nbformat_minor": 0,
  "metadata": {
    "colab": {
      "provenance": [],
      "authorship_tag": "ABX9TyNZbyxJChmK4gNa4k0j9OEh",
      "include_colab_link": true
    },
    "kernelspec": {
      "name": "python3",
      "display_name": "Python 3"
    },
    "language_info": {
      "name": "python"
    }
  },
  "cells": [
    {
      "cell_type": "markdown",
      "metadata": {
        "id": "view-in-github",
        "colab_type": "text"
      },
      "source": [
        "<a href=\"https://colab.research.google.com/github/carolina-segredo/BTE320/blob/main/BTE320_In_Class_Assignments_Carolina_Segredo.ipynb\" target=\"_parent\"><img src=\"https://colab.research.google.com/assets/colab-badge.svg\" alt=\"Open In Colab\"/></a>"
      ]
    },
    {
      "cell_type": "code",
      "source": [
        "#In Class Assignment - September 3rd, 2025 - Income Statement\n",
        "\n",
        "#Inputs: sales and cogs_pct\n",
        "sales = (input(\"Enter sales ($): \"))\n",
        "sales = float(sales)\n",
        "\n",
        "cogs_pct = input(\"Enter Cost of Goods sold (%): \")\n",
        "cogs_pct = float(cogs_pct)\n",
        "\n",
        "taxRate = input(\"Enter Tax Rate (%): \")\n",
        "taxRate = float(taxRate)\n",
        "\n",
        "#Processes: calcualte actual cost of goods sold\n",
        "cogs = (sales * (cogs_pct / 100))\n",
        "grossProfit = sales - cogs\n",
        "taxes = grossProfit * (taxRate / 100)\n",
        "netIncome = grossProfit - taxes\n",
        "\n",
        "#Outputs: display cogs and grossProfit\n",
        "print(f\"Sales:\\t\\t $  {sales}\")\n",
        "print(f\"Cost of Goods Sold: $  {cogs}\")\n",
        "print(f\"Gross Profit: $  {grossProfit}\")\n",
        "print(f\"Taxes:\\t\\t $  {taxes}\")\n",
        "print(f\"Net Income:\\t $  {netIncome}\")"
      ],
      "metadata": {
        "colab": {
          "base_uri": "https://localhost:8080/"
        },
        "id": "OoGduz2MhiKH",
        "outputId": "465499bc-be47-4dc3-ade1-1d15ffcc3506"
      },
      "execution_count": null,
      "outputs": [
        {
          "output_type": "stream",
          "name": "stdout",
          "text": [
            "Enter sales ($): 12000\n",
            "Enter Cost of Goods sold (%): 40\n",
            "Enter Tax Rate (%): 30\n",
            "Sales:\t\t $  12000.0\n",
            "Cost of Goods Sold: $  4800.0\n",
            "Gross Profit: $  7200.0\n",
            "Taxes:\t\t $  2160.0\n",
            "Net Income:\t $  5040.0\n"
          ]
        }
      ]
    },
    {
      "cell_type": "code",
      "source": [
        "#In Class Assignment - September 8th, 2025 - Simple Income Statement Calculation\n",
        "\n",
        "#Inputs\n",
        "D = int(input(\"Enter Annual Demand (units/year): \"))\n",
        "S = float(input(\"Enter Reorder Cost ($/order): \"))\n",
        "H = float(input(\"Enter Holding Cost ($/unit/year): \"))\n",
        "\n",
        "#Process\n",
        "EOQ = ((2 * D * S)/H) ** 0.5\n",
        "\n",
        "#Output\n",
        "print(f\"EOQ: {EOQ} units\")"
      ],
      "metadata": {
        "colab": {
          "base_uri": "https://localhost:8080/"
        },
        "id": "DKzIEHnPIqNR",
        "outputId": "88819b23-f55a-4131-ddb0-fb188a13cfeb"
      },
      "execution_count": null,
      "outputs": [
        {
          "output_type": "stream",
          "name": "stdout",
          "text": [
            "Enter Annual Demand (units/year): 100\n",
            "Enter Reorder Cost ($/order): 1.5\n",
            "Enter Holding Cost ($/unit/year): 3\n",
            "EOQ: 10.0 units\n"
          ]
        }
      ]
    },
    {
      "cell_type": "code",
      "source": [
        "#In Class Assignment - September 15th, 2025 - Numerical Calculator\n",
        "\n",
        "#Inputs\n",
        "number1 = float(input(\"Enter a number: \"))\n",
        "number2 = float(input(\"Enter another number: \"))\n",
        "operator = input(\"Enter a mathematical operator (+, -, *, /, //, **, %): \")\n",
        "\n",
        "#Process\n",
        "if(operator == \"+\"):\n",
        "  print(number1 + number2)\n",
        "elif(operator == \"-\"):\n",
        "  print(number1 - number2)\n",
        "elif(operator == \"*\"):\n",
        "  print(number1 * number2)\n",
        "elif(operator == \"/\"):\n",
        "  print(number1 / number2)\n",
        "elif(operator == \"//\"):\n",
        "  print(number1 // number2)\n",
        "elif(operator == \"**\"):\n",
        "  print(number1 ** number2)\n",
        "elif(operator == \"%\"):\n",
        "  print(number1 % number2)\n",
        "else:\n",
        "  print(\"Not a valid operator.\")\n"
      ],
      "metadata": {
        "colab": {
          "base_uri": "https://localhost:8080/"
        },
        "id": "ydgt6i5kL9_q",
        "outputId": "72c877c0-ee77-4e85-9fa3-48aee9721ecc"
      },
      "execution_count": null,
      "outputs": [
        {
          "output_type": "stream",
          "name": "stdout",
          "text": [
            "Enter a number: 1.7\n",
            "Enter another number: 3\n",
            "Enter a mathematical operator: **\n",
            "4.912999999999999\n"
          ]
        }
      ]
    },
    {
      "cell_type": "code",
      "source": [
        "#In Class Assignment - September 17th, 2025 - Parking Garage\n",
        "\n",
        "print(f\"Hourly Fees\")\n",
        "print(\"----------------\")\n",
        "for hour in range (1,9):\n",
        "  fee = 5 + 2.5 * hour\n",
        "  if fee < 10:\n",
        "    fee = 10.0\n",
        "  elif fee > 20:\n",
        "    fee = 20.0\n",
        "  print(f\"{hour}\\t{fee}\")"
      ],
      "metadata": {
        "colab": {
          "base_uri": "https://localhost:8080/"
        },
        "id": "32AoBXH_Npk1",
        "outputId": "284d218e-6e8c-432b-870a-e941c743041e"
      },
      "execution_count": null,
      "outputs": [
        {
          "output_type": "stream",
          "name": "stdout",
          "text": [
            "Hourly Fees\n",
            "----------------\n",
            "1\t10.0\n",
            "2\t10.0\n",
            "3\t12.5\n",
            "4\t15.0\n",
            "5\t17.5\n",
            "6\t20.0\n",
            "7\t20.0\n",
            "8\t20.0\n"
          ]
        }
      ]
    },
    {
      "cell_type": "code",
      "source": [
        "#In Class Assignment - September 22nd, 2025 - Movie Theater\n",
        "\n",
        "print(\"Ad$   Profit\")\n",
        "for ad in range (0,201,25):\n",
        "  revenue = (20 * 10) + (10 * 2 * ad ** 0.5)\n",
        "  expenses = 200 + ad\n",
        "  profit = revenue - expenses\n",
        "  print(f\"{ad}\\t{round(profit)}\")\n"
      ],
      "metadata": {
        "colab": {
          "base_uri": "https://localhost:8080/"
        },
        "id": "5fs1W5w0OzXb",
        "outputId": "56993170-6f26-43ea-acfb-96f9b4582c6e"
      },
      "execution_count": null,
      "outputs": [
        {
          "output_type": "stream",
          "name": "stdout",
          "text": [
            "Ad$   Profit\n",
            "0\t0\n",
            "25\t75\n",
            "50\t91\n",
            "75\t98\n",
            "100\t100\n",
            "125\t99\n",
            "150\t95\n",
            "175\t90\n",
            "200\t83\n"
          ]
        }
      ]
    },
    {
      "cell_type": "code",
      "source": [
        "#In Class Assignment - September 24th, 2025 - Appending items to list iteratively (while loop)\n",
        "\n",
        "L = []\n",
        "num = int(input(\"Give a number: \"))\n",
        "\n",
        "while num != 0:\n",
        "  L.append(num)\n",
        "  num = int(input(\"Give another number: \"))\n",
        "\n",
        "L.sort(reverse = True)\n",
        "print(L)"
      ],
      "metadata": {
        "id": "9E5AYbD_ue_8",
        "colab": {
          "base_uri": "https://localhost:8080/"
        },
        "outputId": "c556a1a5-e16a-4d6a-87a1-0b2114399994"
      },
      "execution_count": null,
      "outputs": [
        {
          "output_type": "stream",
          "name": "stdout",
          "text": [
            "Give a number: 2\n",
            "Give another number: 3\n",
            "Give another number: 5\n",
            "Give another number: 6\n",
            "Give another number: 1\n",
            "Give another number: 5\n",
            "Give another number: 8\n",
            "Give another number: 3\n",
            "Give another number: 2\n",
            "Give another number: 1\n",
            "Give another number: 0\n",
            "[8, 6, 5, 5, 3, 3, 2, 2, 1, 1]\n"
          ]
        }
      ]
    },
    {
      "cell_type": "code",
      "source": [
        "#In Class Assignment - September 29th, 2025 - Rock, Paper, Scissors\n",
        "\n",
        "import random\n",
        "\n",
        "print(\"Welcome to Rock, Paper, Scissors!\")\n",
        "\n",
        "# Start the game loop\n",
        "while True:\n",
        "    play = input(\"Do you want to play? (yes/no): \").strip().lower()\n",
        "\n",
        "    if play != 'yes':\n",
        "        print(\"Thanks for playing! Goodbye.\")\n",
        "        break\n",
        "\n",
        "    # Get user's choice\n",
        "    user_choice = input(\"Enter rock, paper, or scissors: \").strip().lower()\n",
        "\n",
        "    # Validate user input\n",
        "    if user_choice not in ['rock', 'paper', 'scissors']:\n",
        "        print(\"Invalid input. Please choose rock, paper, or scissors.\")\n",
        "        continue\n",
        "\n",
        "    # Computer randomly chooses\n",
        "    computer_choice = random.choice(['rock', 'paper', 'scissors'])\n",
        "    print(f\"Computer chose: {computer_choice}\")\n",
        "\n",
        "    # Determine winner\n",
        "    if user_choice == computer_choice:\n",
        "        print(\"It's a tie!\")\n",
        "    elif (\n",
        "        (user_choice == 'rock' and computer_choice == 'scissors') or\n",
        "        (user_choice == 'paper' and computer_choice == 'rock') or\n",
        "        (user_choice == 'scissors' and computer_choice == 'paper')\n",
        "    ):\n",
        "        print(\"You win!\")\n",
        "    else:\n",
        "        print(\"Computer wins!\")\n",
        "\n",
        "    print()  # Print empty line for readability"
      ],
      "metadata": {
        "id": "LcOTu53sggUY"
      },
      "execution_count": null,
      "outputs": []
    },
    {
      "cell_type": "code",
      "source": [
        "#In Class Assignment - October 20th, 2025 - Parking Garage: calcFee() function\n",
        "\n",
        "def hours(h):\n",
        "  fee = 5 + 2.5 * h\n",
        "  if fee < 10:\n",
        "    return 10.0\n",
        "  elif fee > 20:\n",
        "    return 20.0\n",
        "  else:\n",
        "    return fee\n",
        "\n",
        "def main():\n",
        "  user_hours = int(input(\"Enter number of hours for parking: \"))\n",
        "  fee = hours(user_hours)\n",
        "  print(fee)\n",
        "\n",
        "if __name__ == \"__main__\": #it can help you figure out what the starting point is; it will define the starting point\n",
        "  main()"
      ],
      "metadata": {
        "colab": {
          "base_uri": "https://localhost:8080/"
        },
        "id": "0_AcUv9qiQvI",
        "outputId": "99c913e0-2d14-4d50-d37a-503c08cb2c9b"
      },
      "execution_count": null,
      "outputs": [
        {
          "output_type": "stream",
          "name": "stdout",
          "text": [
            "Enter number of hours for parking: 5\n",
            "17.5\n"
          ]
        }
      ]
    },
    {
      "cell_type": "code",
      "source": [
        "#In Class Assignment - October 27th, 2025 - Recursive Function: String Reversal\n",
        "\n",
        "def reverse(s):\n",
        "    if len(s) > 1:\n",
        "      return reverse(s[1:])+s[0]\n",
        "    else:\n",
        "      return s\n",
        "\n",
        "reverse(\"hello\")"
      ],
      "metadata": {
        "colab": {
          "base_uri": "https://localhost:8080/",
          "height": 35
        },
        "id": "DAutSCikr4et",
        "outputId": "4948dadd-ecbc-4c1d-9a87-1dde11689cf1"
      },
      "execution_count": 10,
      "outputs": [
        {
          "output_type": "execute_result",
          "data": {
            "text/plain": [
              "'olleh'"
            ],
            "application/vnd.google.colaboratory.intrinsic+json": {
              "type": "string"
            }
          },
          "metadata": {},
          "execution_count": 10
        }
      ]
    }
  ]
}